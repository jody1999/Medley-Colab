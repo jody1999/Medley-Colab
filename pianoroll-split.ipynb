{
 "cells": [
  {
   "cell_type": "code",
   "execution_count": 77,
   "metadata": {},
   "outputs": [],
   "source": [
    "import os\n",
    "import pypianoroll \n",
    "import numpy as np\n",
    "from pypianoroll import Multitrack, Track"
   ]
  },
  {
   "cell_type": "code",
   "execution_count": 78,
   "metadata": {},
   "outputs": [],
   "source": [
    "path = r'D:\\Music\\dataset\\lpd_5_cleansed\\lpd_5\\lpd_5_cleansed\\A\\A\\A\\TRAAAGR128F425B14B'\n",
    "new_path = r'D:\\Music\\dataset\\direct-split-pianoroll'"
   ]
  },
  {
   "cell_type": "code",
   "execution_count": 107,
   "metadata": {},
   "outputs": [],
   "source": [
    "# For a 2D array, shape=(num_time_step, num_pitch).\n",
    "def process_lowest_folder(path, new_path):\n",
    "    files = [f for f in os.listdir(path)]\n",
    "    for file in files:\n",
    "        a = pypianoroll.load(os.path.join(path, file))\n",
    "    \n",
    "        num_bar = int(len(a.tracks[0].pianoroll)/int(a.tempo[0]))\n",
    "        tempo = int(a.tempo[0])\n",
    "        new_tracks = []\n",
    "        try:            \n",
    "            os.mkdir(os.path.join(new_path,file.split('.')[0]))\n",
    "        except OSError:\n",
    "            return\n",
    "        \n",
    "        for bar in range(num_bar):\n",
    "            for track in a.tracks:    \n",
    "                new_pr = np.array(track.pianoroll[bar*tempo:(bar + 1)*tempo, :])\n",
    "                new_track = Track(pianoroll=new_pr, program=0, is_drum=False,name=track.name)\n",
    "                new_tracks.append(new_track)\n",
    "        #     multitrack = Multitrack(new_tracks, tempo=tempo,\n",
    "        #                         downbeat=[0, 96, 192, 288], beat_resolution=24)\n",
    "            multitrack = Multitrack(tracks = new_tracks, tempo=tempo,\n",
    "                                   downbeat=[0, 96, 192, 288], beat_resolution=24, \n",
    "                                    name =  a.name + '\\part\\\\' + str(bar))\n",
    "            pypianoroll.save(os.path.join(new_path,file.split('.')[0])+ 'part' + str(bar) , \n",
    "                             multitrack, compressed=True)\n",
    "        "
   ]
  },
  {
   "cell_type": "code",
   "execution_count": 109,
   "metadata": {},
   "outputs": [],
   "source": [
    "process_lowest_folder(path,new_path)"
   ]
  },
  {
   "cell_type": "code",
   "execution_count": null,
   "metadata": {},
   "outputs": [],
   "source": []
  }
 ],
 "metadata": {
  "kernelspec": {
   "display_name": "Python 3",
   "language": "python",
   "name": "python3"
  },
  "language_info": {
   "codemirror_mode": {
    "name": "ipython",
    "version": 3
   },
   "file_extension": ".py",
   "mimetype": "text/x-python",
   "name": "python",
   "nbconvert_exporter": "python",
   "pygments_lexer": "ipython3",
   "version": "3.6.8"
  }
 },
 "nbformat": 4,
 "nbformat_minor": 2
}
